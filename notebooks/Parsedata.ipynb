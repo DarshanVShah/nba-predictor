{
 "cells": [
  {
   "cell_type": "code",
   "execution_count": 56,
   "id": "2128edcd",
   "metadata": {},
   "outputs": [],
   "source": [
    "import os\n",
    "import pandas as pd\n",
    "from bs4 import BeautifulSoup"
   ]
  },
  {
   "cell_type": "code",
   "execution_count": 57,
   "id": "2966f405",
   "metadata": {},
   "outputs": [],
   "source": [
    "SCORE_DIR = \"NBAdata/scores\""
   ]
  },
  {
   "cell_type": "code",
   "execution_count": 58,
   "id": "ee872b6e",
   "metadata": {},
   "outputs": [],
   "source": [
    "box_scores = os.listdir(SCORE_DIR)"
   ]
  },
  {
   "cell_type": "code",
   "execution_count": 59,
   "id": "2cbcb240",
   "metadata": {},
   "outputs": [],
   "source": [
    "box_scores = [os.path.join(SCORE_DIR,f) for f in box_scores if f.endswith(\".html\")]"
   ]
  },
  {
   "cell_type": "code",
   "execution_count": 61,
   "id": "0feedcf4",
   "metadata": {},
   "outputs": [],
   "source": [
    "def parse_html(box_score):\n",
    "    with open(box_score) as f:\n",
    "        html = f.read()\n",
    "        \n",
    "    soup = BeautifulSoup(html)\n",
    "    [s.decompose() for s in soup.select(\"tr.over_header\")]\n",
    "    [s.decompose() for s in soup.select(\"tr.thead\")]\n",
    "    return soup"
   ]
  },
  {
   "cell_type": "code",
   "execution_count": 62,
   "id": "124fbfe3",
   "metadata": {},
   "outputs": [],
   "source": [
    "def read_line_score(soup):\n",
    "    line_score = pd.read_html(str(soup), attrs={\"id\": \"line_score\"})[0]\n",
    "    cols = list(line_score.columns)\n",
    "    cols[0] = \"team\"\n",
    "    cols[-1] = \"total\"\n",
    "    line_score.columns = cols\n",
    "    \n",
    "    line_score = line_score[[\"team\", \"total\"]]\n",
    "    return line_score"
   ]
  },
  {
   "cell_type": "code",
   "execution_count": 22,
   "id": "d9c095f9",
   "metadata": {},
   "outputs": [],
   "source": [
    "def read_stats(soup, team, stat):\n",
    "    df = pd.read_html(str(soup), attrs={\"id\": f\"box-{team}-game-{stat}\"}, index_col=0)[0]\n",
    "    df = df.apply(pd.to_numeric, errors=\"coerce\")\n",
    "    return df"
   ]
  },
  {
   "cell_type": "code",
   "execution_count": 45,
   "id": "00206ff0",
   "metadata": {},
   "outputs": [],
   "source": [
    "def read_season_info(soup):\n",
    "    nav = soup.select(\"#bottom_nav_container\")[0]\n",
    "    hrefs = [a[\"href\"] for a in nav.find_all(\"a\")]\n",
    "    season = os.path.basename(hrefs[1]).split(\"_\")[0]\n",
    "    return season"
   ]
  },
  {
   "cell_type": "code",
   "execution_count": 79,
   "id": "f12acdc6",
   "metadata": {
    "scrolled": true
   },
   "outputs": [
    {
     "name": "stdout",
     "output_type": "stream",
     "text": [
      "Timeout reading NBAdata/scores/201912010TOR.html, at index 55, skipping...\n",
      "Timeout reading NBAdata/scores/202103020BOS.html, at index 87, skipping...\n",
      "100 / 9628\n",
      "Timeout reading NBAdata/scores/201912190ATL.html, at index 117, skipping...\n",
      "Timeout reading NBAdata/scores/202311080DEN.html, at index 119, skipping...\n",
      "Timeout reading NBAdata/scores/202503190LAL.html, at index 136, skipping...\n",
      "Timeout reading NBAdata/scores/201801030PHI.html, at index 151, skipping...\n",
      "200 / 9628\n",
      "Timeout reading NBAdata/scores/202504260MIA.html, at index 217, skipping...\n",
      "Timeout reading NBAdata/scores/201804210UTA.html, at index 231, skipping...\n",
      "Timeout reading NBAdata/scores/202304290DEN.html, at index 246, skipping...\n",
      "Timeout reading NBAdata/scores/202303030ATL.html, at index 261, skipping...\n",
      "Timeout reading NBAdata/scores/202112030GSW.html, at index 280, skipping...\n",
      "Timeout reading NBAdata/scores/202008090NOP.html, at index 294, skipping...\n"
     ]
    },
    {
     "ename": "KeyboardInterrupt",
     "evalue": "",
     "output_type": "error",
     "traceback": [
      "\u001b[0;31m---------------------------------------------------------------------------\u001b[0m",
      "\u001b[0;31mKeyboardInterrupt\u001b[0m                         Traceback (most recent call last)",
      "\u001b[0;32m<ipython-input-79-98948b9582ac>\u001b[0m in \u001b[0;36m<module>\u001b[0;34m\u001b[0m\n\u001b[1;32m      4\u001b[0m \u001b[0;32mfor\u001b[0m \u001b[0midx\u001b[0m\u001b[0;34m,\u001b[0m \u001b[0mbox_score\u001b[0m \u001b[0;32min\u001b[0m \u001b[0menumerate\u001b[0m\u001b[0;34m(\u001b[0m\u001b[0mbox_scores\u001b[0m\u001b[0;34m)\u001b[0m\u001b[0;34m:\u001b[0m\u001b[0;34m\u001b[0m\u001b[0;34m\u001b[0m\u001b[0m\n\u001b[1;32m      5\u001b[0m     \u001b[0;32mtry\u001b[0m\u001b[0;34m:\u001b[0m\u001b[0;34m\u001b[0m\u001b[0;34m\u001b[0m\u001b[0m\n\u001b[0;32m----> 6\u001b[0;31m         \u001b[0msoup\u001b[0m \u001b[0;34m=\u001b[0m \u001b[0mparse_html\u001b[0m\u001b[0;34m(\u001b[0m\u001b[0mbox_score\u001b[0m\u001b[0;34m)\u001b[0m\u001b[0;34m\u001b[0m\u001b[0;34m\u001b[0m\u001b[0m\n\u001b[0m\u001b[1;32m      7\u001b[0m     \u001b[0;32mexcept\u001b[0m \u001b[0mTimeoutError\u001b[0m\u001b[0;34m:\u001b[0m\u001b[0;34m\u001b[0m\u001b[0;34m\u001b[0m\u001b[0m\n\u001b[1;32m      8\u001b[0m         \u001b[0mprint\u001b[0m\u001b[0;34m(\u001b[0m\u001b[0;34mf\"Timeout reading {box_score}, at index {idx}, skipping...\"\u001b[0m\u001b[0;34m)\u001b[0m\u001b[0;34m\u001b[0m\u001b[0;34m\u001b[0m\u001b[0m\n",
      "\u001b[0;32m<ipython-input-61-25eb8d91b29d>\u001b[0m in \u001b[0;36mparse_html\u001b[0;34m(box_score)\u001b[0m\n\u001b[1;32m      1\u001b[0m \u001b[0;32mdef\u001b[0m \u001b[0mparse_html\u001b[0m\u001b[0;34m(\u001b[0m\u001b[0mbox_score\u001b[0m\u001b[0;34m)\u001b[0m\u001b[0;34m:\u001b[0m\u001b[0;34m\u001b[0m\u001b[0;34m\u001b[0m\u001b[0m\n\u001b[1;32m      2\u001b[0m     \u001b[0;32mwith\u001b[0m \u001b[0mopen\u001b[0m\u001b[0;34m(\u001b[0m\u001b[0mbox_score\u001b[0m\u001b[0;34m)\u001b[0m \u001b[0;32mas\u001b[0m \u001b[0mf\u001b[0m\u001b[0;34m:\u001b[0m\u001b[0;34m\u001b[0m\u001b[0;34m\u001b[0m\u001b[0m\n\u001b[0;32m----> 3\u001b[0;31m         \u001b[0mhtml\u001b[0m \u001b[0;34m=\u001b[0m \u001b[0mf\u001b[0m\u001b[0;34m.\u001b[0m\u001b[0mread\u001b[0m\u001b[0;34m(\u001b[0m\u001b[0;34m)\u001b[0m\u001b[0;34m\u001b[0m\u001b[0;34m\u001b[0m\u001b[0m\n\u001b[0m\u001b[1;32m      4\u001b[0m \u001b[0;34m\u001b[0m\u001b[0m\n\u001b[1;32m      5\u001b[0m     \u001b[0msoup\u001b[0m \u001b[0;34m=\u001b[0m \u001b[0mBeautifulSoup\u001b[0m\u001b[0;34m(\u001b[0m\u001b[0mhtml\u001b[0m\u001b[0;34m)\u001b[0m\u001b[0;34m\u001b[0m\u001b[0;34m\u001b[0m\u001b[0m\n",
      "\u001b[0;31mKeyboardInterrupt\u001b[0m: "
     ]
    }
   ],
   "source": [
    "base_cols = None\n",
    "games = []\n",
    "\n",
    "for idx, box_score in enumerate(box_scores):\n",
    "    try:\n",
    "        soup = parse_html(box_score)\n",
    "    except TimeoutError:\n",
    "        print(f\"Timeout reading {box_score}, at index {idx}, skipping...\")\n",
    "        continue\n",
    "    except Exception as e:\n",
    "        print(f\"Timeout reading {box_score}, at index {idx}, skipping...\")\n",
    "        continue\n",
    "    \n",
    "    try:\n",
    "        line_score = read_line_score(soup)\n",
    "        teams = list(line_score[\"team\"])\n",
    "\n",
    "        summaries = []\n",
    "        for team in teams:\n",
    "            basic = read_stats(soup, team, \"basic\")\n",
    "            advanced = read_stats(soup, team, \"advanced\")\n",
    "\n",
    "            totals = pd. concat([basic.iloc[-1,:], advanced.iloc[-1,:]])\n",
    "            totals.index = totals.index.str.lower()\n",
    "\n",
    "            maxes = pd.concat([basic.iloc[:-1,:].max(), advanced.iloc[:-1,:].max()])\n",
    "            maxes.index = maxes.index.str.lower() + \"_max\"\n",
    "\n",
    "            summary = pd.concat([totals, maxes])\n",
    "\n",
    "            if base_cols is None:\n",
    "                base_cols = list(summary.index.drop_duplicates(keep=\"first\"))\n",
    "                base_cols = [b for b in base_cols if \"bpm\" not in b]\n",
    "\n",
    "            summary = summary[base_cols]\n",
    "\n",
    "            summaries.append(summary)\n",
    "        summary = pd.concat(summaries,axis=1).T\n",
    "\n",
    "        game = pd.concat([summary, line_score], axis=1)\n",
    "\n",
    "        game[\"home\"] = [0,1]\n",
    "        game_opp = game.iloc[::-1].reset_index()\n",
    "        game_opp.columns += \"_opp\"\n",
    "\n",
    "        full_game = pd.concat([game, game_opp], axis=1)\n",
    "\n",
    "        full_game[\"season\"] = read_season_info(soup)\n",
    "\n",
    "        full_game[\"date\"] = os.path.basename(box_score)[:8]\n",
    "        full_game[\"date\"] = pd.to_datetime(full_game[\"date\"], format=\"%Y%m%d\")\n",
    "\n",
    "        full_game[\"won\"] = full_game[\"total\"] > full_game[\"total_opp\"]\n",
    "        games.append(full_game)\n",
    "\n",
    "        if len(games) % 100 == 0:\n",
    "            print(f\"{len(games)} / {len(box_scores)}\")\n",
    "    except Exception as e:\n",
    "        print(f\"Error processing game from {box_score} at index {idx}: {e}, skipping...\")\n",
    "        continue"
   ]
  },
  {
   "cell_type": "code",
   "execution_count": 75,
   "id": "0eb65ad8",
   "metadata": {},
   "outputs": [],
   "source": [
    "games_df = pd.concat(games,ignore_index=True)"
   ]
  },
  {
   "cell_type": "code",
   "execution_count": 77,
   "id": "c892d7f0",
   "metadata": {},
   "outputs": [
    {
     "data": {
      "text/plain": [
       "[]"
      ]
     },
     "execution_count": 77,
     "metadata": {},
     "output_type": "execute_result"
    }
   ],
   "source": [
    "[g.shape[1] for g in games if g.shape[1] != 154] #or 154 for u"
   ]
  },
  {
   "cell_type": "code",
   "execution_count": 78,
   "id": "b0defbfc",
   "metadata": {},
   "outputs": [],
   "source": [
    "games_df.to_csv(\"nba_games.csv\")"
   ]
  }
 ],
 "metadata": {
  "kernelspec": {
   "display_name": "Python 3",
   "language": "python",
   "name": "python3"
  },
  "language_info": {
   "codemirror_mode": {
    "name": "ipython",
    "version": 3
   },
   "file_extension": ".py",
   "mimetype": "text/x-python",
   "name": "python",
   "nbconvert_exporter": "python",
   "pygments_lexer": "ipython3",
   "version": "3.8.8"
  }
 },
 "nbformat": 4,
 "nbformat_minor": 5
}
